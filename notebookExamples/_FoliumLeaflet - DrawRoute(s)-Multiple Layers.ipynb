{
 "cells": [
  {
   "cell_type": "markdown",
   "metadata": {},
   "source": [
    "# To Do"
   ]
  },
  {
   "cell_type": "markdown",
   "metadata": {},
   "source": [
    "TO DO:\n",
    "- [ ]  [Leaftlets](https://github.com/python-visualization/folium)\n",
    "\t- Visualization\n",
    "\t\t- [Black and white graphs](https://nbviewer.jupyter.org/github/python-visualization/folium/blob/master/examples/Quickstart.ipynb)\n",
    "\t\t- [Differnt looks](https://nbviewer.jupyter.org/github/python-visualization/folium/blob/master/examples/TilesExample.ipynb)\n",
    "\t- Drawing\n",
    "\t\t- [Drawing](https://nbviewer.jupyter.org/github/python-visualization/folium/blob/master/examples/Folium_and_mplleaflet.ipynb)\n",
    "\t\t- [GeoPandas](https://nbviewer.jupyter.org/github/python-visualization/folium/blob/master/examples/Geopandas_and_geo_interface.ipynb)\n",
    "\t\t- [Heatmaps](https://nbviewer.jupyter.org/github/python-visualization/folium/blob/master/examples/Heatmap.ipynb)\n",
    "\t\t- [Animation](https://nbviewer.jupyter.org/github/python-visualization/folium/blob/master/examples/Plugins.ipynb)\n",
    "\n",
    "Examples can be found here:\n",
    "- [master](https://nbviewer.jupyter.org/github/python-visualization/folium/tree/master/examples/)\n",
    "- [youtube python folium and leaflet](https://www.youtube.com/watch?v=4RnU5qKTfYY)\n",
    "- [Extensive overview](https://www.youtube.com/watch?v=t9Ed5QyO7qY)"
   ]
  },
  {
   "cell_type": "markdown",
   "metadata": {},
   "source": [
    "# Import"
   ]
  },
  {
   "cell_type": "markdown",
   "metadata": {},
   "source": [
    "## My Stuff"
   ]
  },
  {
   "cell_type": "code",
   "execution_count": 1,
   "metadata": {},
   "outputs": [],
   "source": [
    "from myFunctions.myStravaImportData import stravaInfo"
   ]
  },
  {
   "cell_type": "code",
   "execution_count": 2,
   "metadata": {},
   "outputs": [],
   "source": [
    "import datetime as datetime"
   ]
  },
  {
   "cell_type": "markdown",
   "metadata": {},
   "source": [
    "## Interactable widgets\n",
    "[Examples](https://github.com/WillKoehrsen/Data-Analysis/blob/master/widgets/Widgets-Overview.ipynb) can be found in the github widget overview."
   ]
  },
  {
   "cell_type": "code",
   "execution_count": 3,
   "metadata": {},
   "outputs": [],
   "source": [
    "import ipywidgets as widgets\n",
    "from ipywidgets import interact"
   ]
  },
  {
   "cell_type": "markdown",
   "metadata": {},
   "source": [
    "# Load the data"
   ]
  },
  {
   "cell_type": "code",
   "execution_count": 4,
   "metadata": {},
   "outputs": [],
   "source": [
    "payload = {\n",
    "        'client_id': \"xxxx\",\n",
    "        'client_secret': 'xxxxx',\n",
    "        'refresh_token': 'xxxxx',\n",
    "        'grant_type': \"refresh_token\",\n",
    "        'f': 'json'\n",
    "    }"
   ]
  },
  {
   "cell_type": "code",
   "execution_count": 5,
   "metadata": {},
   "outputs": [
    {
     "name": "stdout",
     "output_type": "stream",
     "text": [
      "Active\n"
     ]
    }
   ],
   "source": [
    "myStravaData  = stravaInfo(arg = payload,\n",
    "                readNewDataFlag = False,\n",
    "               pickleFile=\"./vars/myData.pickle\")"
   ]
  },
  {
   "cell_type": "markdown",
   "metadata": {},
   "source": [
    "# Pruning the data"
   ]
  },
  {
   "cell_type": "markdown",
   "metadata": {},
   "source": [
    "## Get specified activity"
   ]
  },
  {
   "cell_type": "code",
   "execution_count": 6,
   "metadata": {},
   "outputs": [],
   "source": [
    "myStravaData.getTypeData(activityType='Run')\n",
    "myRunData = myStravaData.subsetData"
   ]
  },
  {
   "cell_type": "markdown",
   "metadata": {},
   "source": [
    "## Get specified date"
   ]
  },
  {
   "cell_type": "markdown",
   "metadata": {},
   "source": [
    "**Note** the widgets may not work in jupyter lab so you have to install node.  I found the solution in here:\n",
    "\n",
    "- [github forum](https://github.com/jupyter-widgets/ipywidgets/issues/2083)    \n",
    "- [documentation](https://ipywidgets.readthedocs.io/en/latest/user_install.html#installing-the-jupyterlab-extension)"
   ]
  },
  {
   "cell_type": "code",
   "execution_count": 7,
   "metadata": {},
   "outputs": [
    {
     "data": {
      "application/vnd.jupyter.widget-view+json": {
       "model_id": "5512fa7a29424f0cad38b78c0dbda504",
       "version_major": 2,
       "version_minor": 0
      },
      "text/plain": [
       "DatePicker(value=datetime.datetime(2020, 1, 1, 0, 0), description='Start Date')"
      ]
     },
     "metadata": {},
     "output_type": "display_data"
    },
    {
     "data": {
      "application/vnd.jupyter.widget-view+json": {
       "model_id": "7b318e99c668427ba0350d9a7f05bf4c",
       "version_major": 2,
       "version_minor": 0
      },
      "text/plain": [
       "DatePicker(value=datetime.datetime(2020, 4, 1, 11, 22, 20, 569119), description='End Date')"
      ]
     },
     "metadata": {},
     "output_type": "display_data"
    }
   ],
   "source": [
    "startDatePicker = widgets.DatePicker(description='Start Date',\n",
    "                              value = datetime.datetime.strptime(\"2020-01-01\", \"%Y-%m-%d\"))\n",
    "endDatePicker = widgets.DatePicker(description='End Date',\n",
    "                             value=datetime.datetime.today())\n",
    "display(startDatePicker,endDatePicker)"
   ]
  },
  {
   "cell_type": "code",
   "execution_count": 8,
   "metadata": {},
   "outputs": [],
   "source": [
    "startDate = startDatePicker.value.strftime(\"%Y-%m-%d\")\n",
    "endDate = endDatePicker.value.strftime(\"%Y-%m-%d\")\n",
    "\n",
    "excludeDates = ['2019-08-10',\n",
    "                '2019-08-12']\n",
    "myRunDataPrune = myStravaData.getActivityByDateRange(sessionsData=myRunData,\n",
    "                                                startDate=startDate,\n",
    "                                                endDate=endDate,\n",
    "                                                excludeDates=excludeDates,\n",
    "                                                includeArea=['Toronto'])"
   ]
  },
  {
   "cell_type": "markdown",
   "metadata": {},
   "source": [
    "# Folium Map Parameters"
   ]
  },
  {
   "cell_type": "markdown",
   "metadata": {},
   "source": [
    "The tiles I really like are:\n",
    "- **Stamen Toner** : Black and white \n",
    "- **Cartodb Positron** : White and gray\n",
    "- **Cartodb dark_matter** : Black and gray"
   ]
  },
  {
   "cell_type": "markdown",
   "metadata": {},
   "source": [
    "# Using my Folium Functions"
   ]
  },
  {
   "cell_type": "markdown",
   "metadata": {},
   "source": [
    "## Calling the functions"
   ]
  },
  {
   "cell_type": "code",
   "execution_count": 14,
   "metadata": {},
   "outputs": [
    {
     "data": {
      "text/html": [
       "<div style=\"width:100%;\"><div style=\"position:relative;width:100%;height:0;padding-bottom:60%;\"><iframe src=\"about:blank\" style=\"position:absolute;width:100%;height:100%;left:0;top:0;border:none !important;\" data-html=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 onload=\"this.contentDocument.open();this.contentDocument.write(atob(this.getAttribute('data-html')));this.contentDocument.close();\" allowfullscreen webkitallowfullscreen mozallowfullscreen></iframe></div></div>"
      ],
      "text/plain": [
       "<folium.folium.Map at 0xc406710>"
      ]
     },
     "execution_count": 14,
     "metadata": {},
     "output_type": "execute_result"
    }
   ],
   "source": [
    "myMapLinesArgs = {\n",
    "    'tiles': 'Cartodb dark_matter',\n",
    "    'zoom': 15,\n",
    "    'lineWeight': 3,\n",
    "    }\n",
    "routeMap = myStravaData.drawRoutesMap(sessionsData=myRunDataPrune,\n",
    "                                     mapArgs=myMapLinesArgs,\n",
    "                                     saveMap=False,\n",
    "                                     saveMapName='nothing')\n",
    "routeMap"
   ]
  },
  {
   "cell_type": "markdown",
   "metadata": {},
   "source": [
    "# Drawing one colour for route"
   ]
  },
  {
   "cell_type": "markdown",
   "metadata": {},
   "source": [
    "notice that in the myMapLinesArgs dictionary there is a key called **'lineCol'**"
   ]
  },
  {
   "cell_type": "code",
   "execution_count": 15,
   "metadata": {},
   "outputs": [
    {
     "data": {
      "text/html": [
       "<div style=\"width:100%;\"><div style=\"position:relative;width:100%;height:0;padding-bottom:60%;\"><iframe src=\"about:blank\" style=\"position:absolute;width:100%;height:100%;left:0;top:0;border:none !important;\" data-html=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 onload=\"this.contentDocument.open();this.contentDocument.write(atob(this.getAttribute('data-html')));this.contentDocument.close();\" allowfullscreen webkitallowfullscreen mozallowfullscreen></iframe></div></div>"
      ],
      "text/plain": [
       "<folium.folium.Map at 0xc0f82b0>"
      ]
     },
     "execution_count": 15,
     "metadata": {},
     "output_type": "execute_result"
    }
   ],
   "source": [
    "myMapLinesArgs = {\n",
    "    'tiles': 'Cartodb dark_matter',\n",
    "    'zoom': 15,\n",
    "    'lineWeight': 3,\n",
    "    'lineCol':'#3388ff'\n",
    "    }\n",
    "\n",
    "routeMap = myStravaData.drawRoutesMap(sessionsData=myRunDataPrune,\n",
    "                                     mapArgs=myMapLinesArgs,\n",
    "                                     saveMap=True,\n",
    "                                     saveMapName='outFile/testMap.html')\n",
    "routeMap"
   ]
  }
 ],
 "metadata": {
  "kernelspec": {
   "display_name": "myDevPy36",
   "language": "python",
   "name": "mydevpy36"
  },
  "language_info": {
   "codemirror_mode": {
    "name": "ipython",
    "version": 3
   },
   "file_extension": ".py",
   "mimetype": "text/x-python",
   "name": "python",
   "nbconvert_exporter": "python",
   "pygments_lexer": "ipython3",
   "version": "3.6.10"
  },
  "latex_envs": {
   "LaTeX_envs_menu_present": true,
   "autoclose": false,
   "autocomplete": true,
   "bibliofile": "biblio.bib",
   "cite_by": "apalike",
   "current_citInitial": 1,
   "eqLabelWithNumbers": true,
   "eqNumInitial": 1,
   "hotkeys": {
    "equation": "Ctrl-E",
    "itemize": "Ctrl-I"
   },
   "labels_anchors": false,
   "latex_user_defs": false,
   "report_style_numbering": false,
   "user_envs_cfg": false
  }
 },
 "nbformat": 4,
 "nbformat_minor": 4
}
