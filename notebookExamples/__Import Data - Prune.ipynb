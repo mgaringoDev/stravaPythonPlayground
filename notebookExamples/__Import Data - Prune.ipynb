{
 "cells": [
  {
   "cell_type": "markdown",
   "metadata": {},
   "source": [
    "# Import"
   ]
  },
  {
   "cell_type": "markdown",
   "metadata": {},
   "source": [
    "## My Stuff"
   ]
  },
  {
   "cell_type": "code",
   "execution_count": 1,
   "metadata": {},
   "outputs": [],
   "source": [
    "from myFunctions.myStravaImportData import stravaInfo"
   ]
  },
  {
   "cell_type": "code",
   "execution_count": 2,
   "metadata": {},
   "outputs": [],
   "source": [
    "import datetime as datetime"
   ]
  },
  {
   "cell_type": "markdown",
   "metadata": {},
   "source": [
    "## Interactable widgets\n",
    "[Examples](https://github.com/WillKoehrsen/Data-Analysis/blob/master/widgets/Widgets-Overview.ipynb) can be found in the github widget overview."
   ]
  },
  {
   "cell_type": "code",
   "execution_count": 3,
   "metadata": {},
   "outputs": [],
   "source": [
    "import ipywidgets as widgets\n",
    "from ipywidgets import interact"
   ]
  },
  {
   "cell_type": "markdown",
   "metadata": {},
   "source": [
    "# Load the data"
   ]
  },
  {
   "cell_type": "code",
   "execution_count": 4,
   "metadata": {},
   "outputs": [],
   "source": [
    "payload = {\n",
    "        'client_id': \"xxxx\",\n",
    "        'client_secret': 'xxxxx',\n",
    "        'refresh_token': 'xxxxx',\n",
    "        'grant_type': \"refresh_token\",\n",
    "        'f': 'json'\n",
    "    }"
   ]
  },
  {
   "cell_type": "code",
   "execution_count": 5,
   "metadata": {},
   "outputs": [
    {
     "name": "stdout",
     "output_type": "stream",
     "text": [
      "Active\n"
     ]
    }
   ],
   "source": [
    "myStravaData  = stravaInfo(arg = payload,\n",
    "                readNewDataFlag = False,\n",
    "               pickleFile=\"./vars/myData.pickle\")"
   ]
  },
  {
   "cell_type": "markdown",
   "metadata": {},
   "source": [
    "# Pruning the data"
   ]
  },
  {
   "cell_type": "markdown",
   "metadata": {},
   "source": [
    "## Get specified activity"
   ]
  },
  {
   "cell_type": "code",
   "execution_count": 6,
   "metadata": {},
   "outputs": [],
   "source": [
    "myStravaData.getTypeData(activityType='Run')\n",
    "myRunData = myStravaData.subsetData"
   ]
  },
  {
   "cell_type": "markdown",
   "metadata": {},
   "source": [
    "## Get specified date"
   ]
  },
  {
   "cell_type": "markdown",
   "metadata": {},
   "source": [
    "**Note** the widgets may not work in jupyter lab so you have to install node.  I found the solution in here:\n",
    "\n",
    "- [github forum](https://github.com/jupyter-widgets/ipywidgets/issues/2083)    \n",
    "- [documentation](https://ipywidgets.readthedocs.io/en/latest/user_install.html#installing-the-jupyterlab-extension)"
   ]
  },
  {
   "cell_type": "code",
   "execution_count": 7,
   "metadata": {},
   "outputs": [
    {
     "data": {
      "application/vnd.jupyter.widget-view+json": {
       "model_id": "9f96f5846c904e7aa332bee6961988c8",
       "version_major": 2,
       "version_minor": 0
      },
      "text/plain": [
       "DatePicker(value=datetime.datetime(2020, 1, 1, 0, 0), description='Start Date')"
      ]
     },
     "metadata": {},
     "output_type": "display_data"
    },
    {
     "data": {
      "application/vnd.jupyter.widget-view+json": {
       "model_id": "3cb3c680b77f42698f4f4d0f218bc312",
       "version_major": 2,
       "version_minor": 0
      },
      "text/plain": [
       "DatePicker(value=datetime.datetime(2020, 4, 1, 11, 34, 42, 97322), description='End Date')"
      ]
     },
     "metadata": {},
     "output_type": "display_data"
    }
   ],
   "source": [
    "startDatePicker = widgets.DatePicker(description='Start Date',\n",
    "                              value = datetime.datetime.strptime(\"2020-01-01\", \"%Y-%m-%d\"))\n",
    "endDatePicker = widgets.DatePicker(description='End Date',\n",
    "                             value=datetime.datetime.today())\n",
    "display(startDatePicker,endDatePicker)"
   ]
  },
  {
   "cell_type": "code",
   "execution_count": 8,
   "metadata": {},
   "outputs": [],
   "source": [
    "startDate = startDatePicker.value.strftime(\"%Y-%m-%d\")\n",
    "endDate = endDatePicker.value.strftime(\"%Y-%m-%d\")\n",
    "\n",
    "excludeDates = ['2019-08-10',\n",
    "                '2019-08-12']\n",
    "myRunDataPrune = myStravaData.getActivityByDateRange(sessionsData=myRunData,\n",
    "                                                startDate=startDate,\n",
    "                                                endDate=endDate,\n",
    "                                                excludeDates=excludeDates,\n",
    "                                                includeArea=['Toronto'])"
   ]
  },
  {
   "cell_type": "code",
   "execution_count": null,
   "metadata": {},
   "outputs": [],
   "source": []
  }
 ],
 "metadata": {
  "kernelspec": {
   "display_name": "myDevPy36",
   "language": "python",
   "name": "mydevpy36"
  },
  "language_info": {
   "codemirror_mode": {
    "name": "ipython",
    "version": 3
   },
   "file_extension": ".py",
   "mimetype": "text/x-python",
   "name": "python",
   "nbconvert_exporter": "python",
   "pygments_lexer": "ipython3",
   "version": "3.6.10"
  },
  "latex_envs": {
   "LaTeX_envs_menu_present": true,
   "autoclose": false,
   "autocomplete": true,
   "bibliofile": "biblio.bib",
   "cite_by": "apalike",
   "current_citInitial": 1,
   "eqLabelWithNumbers": true,
   "eqNumInitial": 1,
   "hotkeys": {
    "equation": "Ctrl-E",
    "itemize": "Ctrl-I"
   },
   "labels_anchors": false,
   "latex_user_defs": false,
   "report_style_numbering": false,
   "user_envs_cfg": false
  }
 },
 "nbformat": 4,
 "nbformat_minor": 4
}
